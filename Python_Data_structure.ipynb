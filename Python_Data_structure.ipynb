{
  "cells": [
    {
      "cell_type": "markdown",
      "source": [
        "**Assignment**"
      ],
      "metadata": {
        "id": "jE2pS4QtKzHw"
      }
    },
    {
      "cell_type": "markdown",
      "source": [
        "Data Types and Structures Questions"
      ],
      "metadata": {
        "id": "UpYVOLW-LDoP"
      }
    },
    {
      "cell_type": "markdown",
      "source": [
        "1 What are data structures, and why are they important?\n",
        "- Data Structures are specialized ways of organizing, managing, and storing data in a computer so that it can be accessed and modified efficiently.\n",
        "\n",
        " They allow you to store and retrieve data quickly\n",
        "\n",
        " Choosing the right data structure can reduce time and space complexity (e.g., using a hash table for quick lookups).\n",
        "\n",
        " Many algorithms are built around specific data structures (e.g., graphs for networks, trees for hierarchical data)."
      ],
      "metadata": {
        "id": "yLnSZmDALs9w"
      }
    },
    {
      "cell_type": "markdown",
      "source": [
        "2 Explain the difference between mutable and immutable data types with examples ?\n",
        " - Mutable data types can be changed after they are created. You can modify their content without changing their identity (i.e., memory location remains the same).\n",
        "\n",
        " Immutable data types cannot be changed after they are created. Any change creates a new object in memory."
      ],
      "metadata": {
        "id": "wJvybZJuLgvX"
      }
    },
    {
      "cell_type": "markdown",
      "source": [
        "3 What are the main differences between lists and tuples in Python ?\n",
        "- Lists are mutable and can be changed (add, remove, update elements).\n",
        "\n",
        "  Tuples are unmutable and cannot be changed after creation."
      ],
      "metadata": {
        "id": "Yla3e_p9LwdF"
      }
    },
    {
      "cell_type": "markdown",
      "source": [
        "4 Describe how dictionaries store data\n",
        "- A dictionary in Python is a collection of key-value pairs.\n",
        " Dictionaries are implemented using a hash table under the hood\n",
        "  \n",
        "  Every key is passed through a hash function (via hash(key)).This returns a unique integer (called the hash value).\n",
        "  \n",
        "  The hash value is used to calculate an index in a memory array (called a hash table).\n",
        "  \n",
        "  At the computed index, Python stores both the key and the value.\n",
        "\n",
        "  If two keys hash to the same index (called a collision), Python uses a technique like open addressing or chaining to store the new key in another location."
      ],
      "metadata": {
        "id": "7ot_RzzxL8hg"
      }
    },
    {
      "cell_type": "markdown",
      "source": [
        "5  Why might you use a set instead of a list in Python ?\n",
        "- A set is a built-in Python data structure that stores unordered, unique elements. There are several reasons why you might choose a set over a list\n",
        "\n",
        " Sets automatically remove duplicate values, while lists allow them.\n",
        "\n",
        " Checking if an element exists is much faster in sets than in lists (on average O(1) for sets vs O(n) for lists).\n",
        "\n",
        " Sets support operations like:\n",
        "\n",
        " Union (set1 | set2)  \n",
        "\n",
        " Intersection (set1 & set2)\n",
        "\n",
        " Difference (set1 - set2)\n"
      ],
      "metadata": {
        "id": "D6xlZhBXMLtY"
      }
    },
    {
      "cell_type": "markdown",
      "source": [
        "6 What is a string in Python, and how is it different from a list ?\n",
        "- A string is a sequence of characters enclosed in quotes (' or \"), used to represent text.\n",
        "\n",
        " Strings in Python are:  Immutable (cannot be changed),\n",
        " Indexed (support slicing) ,Iterable (can loop through)\n",
        "\n"
      ],
      "metadata": {
        "id": "NPJBiKkrMhHU"
      }
    },
    {
      "cell_type": "markdown",
      "source": [
        "7 How do tuples ensure data integrity in Python ?\n",
        "- Data integrity means ensuring that data is accurate, consistent, and not accidentally changed or corrupted during program execution.\n",
        "\n",
        " Tuples are immutable, meaning once created, their content cannot be changed.\n",
        "\n",
        " No one can: add,remove and modify the elements in tuple."
      ],
      "metadata": {
        "id": "zKVGsdTbMoSL"
      }
    },
    {
      "cell_type": "markdown",
      "source": [
        "8 What is a hash table, and how does it relate to dictionaries in Python?\n",
        "- A hash table is a data structure that stores data in key-value pairs using a process called hashing. It uses a hash function to convert a key into an index in an underlying array. The value is stored at that computed index.\n",
        "\n",
        " How it works\n",
        "\n",
        " Step 1 : Hashing the Key\n",
        "\n",
        " Step 2 : Calculating the Index\n",
        "\n",
        " Step 3 :  storing the Key-Value Pair\n",
        "\n",
        " Step 4 : Handling Collisions\n",
        "\n"
      ],
      "metadata": {
        "id": "nGY6zfxmQ-1A"
      }
    },
    {
      "cell_type": "markdown",
      "source": [
        "9 Can lists contain different data types in Python ?\n",
        "- In Python, lists can contain elements of different data types — including integers, strings, floats, booleans, other lists, and even custom objects.\n",
        "\n",
        " Python is a dynamically typed and high-level language, meaning:\n",
        "\n",
        " Variables (and list elements) don’t need a fixed data type.\n",
        "\n",
        " Each element in the list is just a reference to an object, regardless of its type."
      ],
      "metadata": {
        "id": "TW1T6nJsREc7"
      }
    },
    {
      "cell_type": "markdown",
      "source": [
        "10 Explain why strings are immutable in Python ?\n",
        "- When a data type is immutable, it means you cannot change its contents after creation.\n",
        "\n",
        " For strings in Python:\n",
        "\n",
        " You cannot modify individual characters\n",
        "\n",
        " Any “change” actually creates a new string object"
      ],
      "metadata": {
        "id": "PbLBi7p4S-p1"
      }
    },
    {
      "cell_type": "markdown",
      "source": [
        "11 What advantages do dictionaries offer over lists for certain tasks ?\n",
        "- Dictionaries (dict) and lists (list) are both powerful data structures in Python — but they are suited to different kinds of tasks.\n",
        "\n",
        " Here’s when and why you’d use a dictionary over a list:\n",
        "\n",
        " 1. Fast Lookup by Key (O(1) Time)\n",
        "\n",
        " 2. Key-Value Pair Organization\n",
        "\n",
        " 3. Avoid Duplicates and Confusion\n",
        "\n",
        " 4. Better for Structured Data\n",
        "\n",
        "\n"
      ],
      "metadata": {
        "id": "En-ky9-YTcFr"
      }
    },
    {
      "cell_type": "markdown",
      "source": [
        "12 Describe a scenario where using a tuple would be preferable over a list ?\n",
        "- As we know that tuple is unmutable no one can modify the tuples, there is sensitive document like aadhaar card where everyone has their unique identification in that cases use tuple over list"
      ],
      "metadata": {
        "id": "Kf6krONWTwOl"
      }
    },
    {
      "cell_type": "markdown",
      "source": [
        "13. How do sets handle duplicate values in Python ?\n",
        "- A set is an unordered collection of distinct (unique) items.\n",
        "\n",
        " Defined using {} or the set() constructor.\n",
        "\n",
        " Like mathematical sets, they cannot have duplicates."
      ],
      "metadata": {
        "id": "LN37Sf1RUpVj"
      }
    },
    {
      "cell_type": "markdown",
      "source": [
        "14. How does the “in” keyword work differently for lists and dictionaries ?\n",
        "- In list: The \"in\" keyword checks if a value exists in the list.\n",
        "\n",
        " In dictionary : The \"in\" keyword checks if a key exists, not the value."
      ],
      "metadata": {
        "id": "3E2HDQNAUvlu"
      }
    },
    {
      "cell_type": "markdown",
      "source": [
        "15. Can you modify the elements of a tuple? Explain why or why not ?\n",
        "- No, you cannot modify the elements of a tuple in Python. Because tuples are immutable — once a tuple is created, its contents cannot be changed."
      ],
      "metadata": {
        "id": "B5SMQi1oWTHE"
      }
    },
    {
      "cell_type": "markdown",
      "source": [
        "16. What is a nested dictionary, and give an example of its use case ?\n",
        "- A nested dictionary is a dictionary inside another dictionary.\n",
        "It allows you to store and organize hierarchical or structured data, like records within records."
      ],
      "metadata": {
        "id": "lt5xtgNWWbgF"
      }
    },
    {
      "cell_type": "markdown",
      "source": [
        "17. Describe the time complexity of accessing elements in a dictionary ?\n",
        "- In Python, dictionaries are implemented using a hash table, which provides very fast access to elements.\n",
        "\n",
        " The dictionary uses the hash of the key to directly locate the value's position in memory.\n",
        "\n",
        " No need to search through all elements"
      ],
      "metadata": {
        "id": "t2pTCfuoWfnJ"
      }
    },
    {
      "cell_type": "markdown",
      "source": [
        "18. In what situations are lists preferred over dictionaries ?\n",
        "- In what situations are lists preferred over dictionaries.\n",
        "\n",
        " For small, simple datasets where names or categories aren't needed\n",
        "\n",
        " Lists allow duplicate elements. Dictionaries do not (since keys must be unique)."
      ],
      "metadata": {
        "id": "kNtrFhqhWkSy"
      }
    },
    {
      "cell_type": "markdown",
      "source": [
        "19. Why are dictionaries considered unordered, and how does that affect data retrieval ?\n",
        "-"
      ],
      "metadata": {
        "id": "fHll3ujFalTu"
      }
    },
    {
      "cell_type": "markdown",
      "source": [
        "20. Explain the difference between a list and a dictionary in terms of data retrieval\n",
        "- How to access in list Index (0, 1, 2...)\n",
        "   \n",
        "  How to access in dictionary Key (like 'name', 'age')\n",
        "\n",
        "  Syntax\tin list my_list[1]\n",
        "  \n",
        "  Syntax in dictionary my_dict[\"name\"]\n",
        "\n",
        ""
      ],
      "metadata": {
        "id": "IscBja8oar4D"
      }
    },
    {
      "cell_type": "markdown",
      "source": [
        "**PRACTICAL QUESTIONS**"
      ],
      "metadata": {
        "id": "Zkq-Oy9Gf0ZQ"
      }
    },
    {
      "cell_type": "code",
      "source": [
        "#1. Write a code to create a string with your name and print it ?\n",
        "my_name = \"Pratik Deshmukh\"\n",
        "print(\"My name is:\", my_name)"
      ],
      "metadata": {
        "colab": {
          "base_uri": "https://localhost:8080/"
        },
        "id": "SwVm9y-eiVCn",
        "outputId": "9481b8f4-0602-465c-cad0-8f5264631647"
      },
      "execution_count": 1,
      "outputs": [
        {
          "output_type": "stream",
          "name": "stdout",
          "text": [
            "My name is: Pratik Deshmukh\n"
          ]
        }
      ]
    },
    {
      "cell_type": "code",
      "source": [
        "#2.  Write a code to find the length of the string \"Hello World\" ?\n",
        "str = \"Hello World\"\n",
        "len(str)"
      ],
      "metadata": {
        "colab": {
          "base_uri": "https://localhost:8080/"
        },
        "id": "VgltdFgrjOOo",
        "outputId": "2e336cde-fdaf-4cbb-8c7d-aba4676b5871"
      },
      "execution_count": 2,
      "outputs": [
        {
          "output_type": "execute_result",
          "data": {
            "text/plain": [
              "11"
            ]
          },
          "metadata": {},
          "execution_count": 2
        }
      ]
    },
    {
      "cell_type": "code",
      "source": [
        "#3.  Write a code to slice the first 3 characters from the string \"Python Programming\" ?\n",
        "str = \"Python Programming\"\n",
        "str[0:3]"
      ],
      "metadata": {
        "colab": {
          "base_uri": "https://localhost:8080/",
          "height": 36
        },
        "id": "8LROKnlSj85D",
        "outputId": "c16f2827-4263-431e-f70f-72fcfce8909c"
      },
      "execution_count": 3,
      "outputs": [
        {
          "output_type": "execute_result",
          "data": {
            "text/plain": [
              "'Pyt'"
            ],
            "application/vnd.google.colaboratory.intrinsic+json": {
              "type": "string"
            }
          },
          "metadata": {},
          "execution_count": 3
        }
      ]
    },
    {
      "cell_type": "code",
      "source": [
        "#4.  Write a code to convert the string \"hello\" to uppercase ?\n",
        "str = \"hello\"\n",
        "str.upper()"
      ],
      "metadata": {
        "colab": {
          "base_uri": "https://localhost:8080/",
          "height": 36
        },
        "id": "tuKGMHp7lKTy",
        "outputId": "2f598730-85be-41eb-e22a-865b2edfd466"
      },
      "execution_count": 4,
      "outputs": [
        {
          "output_type": "execute_result",
          "data": {
            "text/plain": [
              "'HELLO'"
            ],
            "application/vnd.google.colaboratory.intrinsic+json": {
              "type": "string"
            }
          },
          "metadata": {},
          "execution_count": 4
        }
      ]
    },
    {
      "cell_type": "code",
      "source": [
        "#5.  Write a code to replace the word \"apple\" with \"orange\" in the string \"I like apple\" ?\n",
        "str = \"I like apple\"\n",
        "str.replace(\"apple\",\"orange\")"
      ],
      "metadata": {
        "colab": {
          "base_uri": "https://localhost:8080/",
          "height": 36
        },
        "id": "gCkA6Iwlliu_",
        "outputId": "27b23012-088a-48d0-d977-378ee89ed093"
      },
      "execution_count": 5,
      "outputs": [
        {
          "output_type": "execute_result",
          "data": {
            "text/plain": [
              "'I like orange'"
            ],
            "application/vnd.google.colaboratory.intrinsic+json": {
              "type": "string"
            }
          },
          "metadata": {},
          "execution_count": 5
        }
      ]
    },
    {
      "cell_type": "code",
      "source": [
        "#6.  Write a code to create a list with numbers 1 to 5 and print it ?\n",
        "list = [1,2,3,4,5]\n",
        "print(list)"
      ],
      "metadata": {
        "colab": {
          "base_uri": "https://localhost:8080/"
        },
        "id": "XQNVDWkol7S1",
        "outputId": "a57ba083-4e3e-402c-b1ea-b3f513bd237e"
      },
      "execution_count": 9,
      "outputs": [
        {
          "output_type": "stream",
          "name": "stdout",
          "text": [
            "[1, 2, 3, 4, 5]\n"
          ]
        }
      ]
    },
    {
      "cell_type": "code",
      "source": [
        "#7. Write a code to append the number 10 to the list [1, 2, 3, 4] ?\n",
        "list = [1,2,3,4]\n",
        "list.append(10)\n",
        "print(list)"
      ],
      "metadata": {
        "colab": {
          "base_uri": "https://localhost:8080/"
        },
        "id": "1bfg0XP0mKo5",
        "outputId": "ad6be465-1111-4a69-f44b-f3297089da9e"
      },
      "execution_count": 11,
      "outputs": [
        {
          "output_type": "stream",
          "name": "stdout",
          "text": [
            "[1, 2, 3, 4, 10]\n"
          ]
        }
      ]
    },
    {
      "cell_type": "code",
      "source": [
        "#8. Write a code to remove the number 3 from the list [1, 2, 3, 4, 5] ?\n",
        "list = [1,2,3,4,5]\n",
        "list.remove(3)\n",
        "print(list)\n"
      ],
      "metadata": {
        "colab": {
          "base_uri": "https://localhost:8080/"
        },
        "id": "Crm7OC4tmZSv",
        "outputId": "d8fd189d-7e0d-40f6-880b-e4b95c226ada"
      },
      "execution_count": 13,
      "outputs": [
        {
          "output_type": "stream",
          "name": "stdout",
          "text": [
            "[1, 2, 4, 5]\n"
          ]
        }
      ]
    },
    {
      "cell_type": "code",
      "source": [
        "#9. Write a code to access the second element in the list ['a', 'b', 'c', 'd'] ?\n",
        "list = ['a','b','c','d']\n",
        "list[1]\n"
      ],
      "metadata": {
        "colab": {
          "base_uri": "https://localhost:8080/",
          "height": 36
        },
        "id": "BoefPn1orySQ",
        "outputId": "53d7517c-3d4a-494c-a965-e4a735adf013"
      },
      "execution_count": 14,
      "outputs": [
        {
          "output_type": "execute_result",
          "data": {
            "text/plain": [
              "'b'"
            ],
            "application/vnd.google.colaboratory.intrinsic+json": {
              "type": "string"
            }
          },
          "metadata": {},
          "execution_count": 14
        }
      ]
    },
    {
      "cell_type": "code",
      "source": [
        "#10. Write a code to reverse the list [10, 20, 30, 40, 50] ?\n",
        "list = [10,20,30,40,50]\n",
        "list.reverse()\n",
        "print(list)"
      ],
      "metadata": {
        "colab": {
          "base_uri": "https://localhost:8080/"
        },
        "id": "U3zwUIb8sI-N",
        "outputId": "d0f017eb-96fd-4bfb-8497-7aed49ee216a"
      },
      "execution_count": 15,
      "outputs": [
        {
          "output_type": "stream",
          "name": "stdout",
          "text": [
            "[50, 40, 30, 20, 10]\n"
          ]
        }
      ]
    },
    {
      "cell_type": "code",
      "source": [
        "#11. Write a code to create a tuple with the elements 100, 200, 300 and print it\n",
        "tuple = (100,200,300)\n",
        "print(tuple)"
      ],
      "metadata": {
        "colab": {
          "base_uri": "https://localhost:8080/"
        },
        "id": "MqYSB6LtsZPv",
        "outputId": "975063d4-e18f-48af-dd28-e2936fde292b"
      },
      "execution_count": 16,
      "outputs": [
        {
          "output_type": "stream",
          "name": "stdout",
          "text": [
            "(100, 200, 300)\n"
          ]
        }
      ]
    },
    {
      "cell_type": "code",
      "source": [
        "#12. Write a code to access the second-to-last element of the tuple ('red', 'green', 'blue', 'yellow').\n",
        "tuple = ('red','green','blue','yellow')\n",
        "tuple[1:]"
      ],
      "metadata": {
        "colab": {
          "base_uri": "https://localhost:8080/"
        },
        "id": "CAXZ0Ki8sl-j",
        "outputId": "2d30d3aa-5024-4466-ce14-0a964f5ef76d"
      },
      "execution_count": 17,
      "outputs": [
        {
          "output_type": "execute_result",
          "data": {
            "text/plain": [
              "('green', 'blue', 'yellow')"
            ]
          },
          "metadata": {},
          "execution_count": 17
        }
      ]
    },
    {
      "cell_type": "code",
      "source": [
        "#13. Write a code to find the minimum number in the tuple (10, 20, 5, 15)\n",
        "tuple = (10,20,5,15)\n",
        "min(tuple)\n",
        ""
      ],
      "metadata": {
        "colab": {
          "base_uri": "https://localhost:8080/"
        },
        "id": "De9PUTpws-Fl",
        "outputId": "2706af45-8656-4679-95c7-bbb07cc0f20e"
      },
      "execution_count": 31,
      "outputs": [
        {
          "output_type": "execute_result",
          "data": {
            "text/plain": [
              "5"
            ]
          },
          "metadata": {},
          "execution_count": 31
        }
      ]
    },
    {
      "cell_type": "code",
      "source": [
        "#14. Write a code to find the index of the element \"cat\" in the tuple ('dog', 'cat', 'rabbit')\n",
        "tuple = ('dog','cat','rabbit')\n",
        "tuple.index('cat')\n"
      ],
      "metadata": {
        "colab": {
          "base_uri": "https://localhost:8080/"
        },
        "id": "k8zaOAzstxuI",
        "outputId": "7f9595c6-684e-435e-c25b-4285757ff036"
      },
      "execution_count": 32,
      "outputs": [
        {
          "output_type": "execute_result",
          "data": {
            "text/plain": [
              "1"
            ]
          },
          "metadata": {},
          "execution_count": 32
        }
      ]
    },
    {
      "cell_type": "code",
      "source": [
        "#15. Write a code to create a tuple containing three different fruits and check if \"kiwi\" is in it.\n",
        "tuple = ('apple','banana','kiwi')\n",
        "'kiwi' in tuple\n"
      ],
      "metadata": {
        "colab": {
          "base_uri": "https://localhost:8080/"
        },
        "id": "DFR17omXuyUJ",
        "outputId": "42dc8fe9-4fbb-4094-82c8-9b3fe19d8d45"
      },
      "execution_count": 33,
      "outputs": [
        {
          "output_type": "execute_result",
          "data": {
            "text/plain": [
              "True"
            ]
          },
          "metadata": {},
          "execution_count": 33
        }
      ]
    },
    {
      "cell_type": "code",
      "source": [
        "#16. Write a code to create a set with the elements 'a', 'b', 'c' and print it.\n",
        "set = {'a','b','c'}\n",
        "print(set)\n",
        "\n"
      ],
      "metadata": {
        "colab": {
          "base_uri": "https://localhost:8080/"
        },
        "id": "9rMJtHzdvIKb",
        "outputId": "f3ff6846-af91-401c-c801-083ff198d13a"
      },
      "execution_count": 34,
      "outputs": [
        {
          "output_type": "stream",
          "name": "stdout",
          "text": [
            "{'c', 'b', 'a'}\n"
          ]
        }
      ]
    },
    {
      "cell_type": "code",
      "source": [
        "#17. Write a code to clear all elements from the set {1, 2, 3, 4, 5}.\n",
        "set = {1,2,3,4,5}\n",
        "set.clear()\n",
        "print(set)\n"
      ],
      "metadata": {
        "colab": {
          "base_uri": "https://localhost:8080/"
        },
        "id": "ROPLCvnzvch6",
        "outputId": "1f392c31-dbba-42d7-ca1c-a76c4bffb23b"
      },
      "execution_count": 35,
      "outputs": [
        {
          "output_type": "stream",
          "name": "stdout",
          "text": [
            "set()\n"
          ]
        }
      ]
    },
    {
      "cell_type": "code",
      "source": [
        "#18. Write a code to remove the element 4 from the set {1, 2, 3, 4}.\n",
        "set = {1,2,3,4}\n",
        "set.remove(4)\n",
        "print(set)\n",
        "\n"
      ],
      "metadata": {
        "colab": {
          "base_uri": "https://localhost:8080/"
        },
        "id": "-F6gdFZwvg4K",
        "outputId": "dc582759-ed32-4f31-c427-35e7a296d88b"
      },
      "execution_count": 36,
      "outputs": [
        {
          "output_type": "stream",
          "name": "stdout",
          "text": [
            "{1, 2, 3}\n"
          ]
        }
      ]
    },
    {
      "cell_type": "code",
      "source": [
        "#19. Write a code to find the union of two sets {1, 2, 3} and {3, 4, 5}.\n",
        "set1 = {1,2,3}\n",
        "set2 = {3,4,5}\n",
        "set1.union(set2)\n",
        "\n"
      ],
      "metadata": {
        "colab": {
          "base_uri": "https://localhost:8080/"
        },
        "id": "2LKqUJghvnHX",
        "outputId": "a83af0e9-8d70-42ee-dd45-14b407d90d6e"
      },
      "execution_count": 37,
      "outputs": [
        {
          "output_type": "execute_result",
          "data": {
            "text/plain": [
              "{1, 2, 3, 4, 5}"
            ]
          },
          "metadata": {},
          "execution_count": 37
        }
      ]
    },
    {
      "cell_type": "code",
      "source": [
        "#20. Write a code to find the intersection of two sets {1, 2, 3} and {2, 3, 4}.\n",
        "set1 = {1,2,3}\n",
        "set2 = {2,3,4}\n",
        "set3 = set1.intersection(set2)\n",
        "print(set3)\n",
        "\n"
      ],
      "metadata": {
        "colab": {
          "base_uri": "https://localhost:8080/"
        },
        "id": "Rm8rYdL_wIND",
        "outputId": "9fcb48b7-66f8-421b-ea4b-61aadec0c44c"
      },
      "execution_count": 38,
      "outputs": [
        {
          "output_type": "stream",
          "name": "stdout",
          "text": [
            "{2, 3}\n"
          ]
        }
      ]
    },
    {
      "cell_type": "code",
      "source": [
        "#21. Write a code to create a dictionary with the keys \"name\", \"age\", and \"city\", and print it.\n",
        "dict = {'name':'pratik','age':23,'city':'pune'}\n",
        "print(dict)\n",
        "\n"
      ],
      "metadata": {
        "colab": {
          "base_uri": "https://localhost:8080/"
        },
        "id": "-TyMYI7kwLqw",
        "outputId": "9b5750f4-8105-401a-e9e5-194ee7976f1b"
      },
      "execution_count": 39,
      "outputs": [
        {
          "output_type": "stream",
          "name": "stdout",
          "text": [
            "{'name': 'pratik', 'age': 23, 'city': 'pune'}\n"
          ]
        }
      ]
    },
    {
      "cell_type": "code",
      "source": [
        "#22. Write a code to add a new key-value pair \"country\": \"USA\" to the dictionary {'name': 'John', 'age': 25}.\n",
        "dict = {'name':'John','age':25}\n",
        "dict['contry'] = 'USA'\n",
        "print(dict)\n",
        "\n"
      ],
      "metadata": {
        "colab": {
          "base_uri": "https://localhost:8080/"
        },
        "id": "bTqASGXCwPAL",
        "outputId": "6af48482-061a-47d2-9daa-a01730162c4c"
      },
      "execution_count": 40,
      "outputs": [
        {
          "output_type": "stream",
          "name": "stdout",
          "text": [
            "{'name': 'John', 'age': 25, 'contry': 'USA'}\n"
          ]
        }
      ]
    },
    {
      "cell_type": "code",
      "source": [
        "#23. Write a code to access the value associated with the key \"name\" in the dictionary {'name': 'Alice', 'age': 30}.\n",
        "dict = {'name':'Alice','age':30}\n",
        "dict['name']"
      ],
      "metadata": {
        "colab": {
          "base_uri": "https://localhost:8080/",
          "height": 36
        },
        "id": "rIBYjczayvVQ",
        "outputId": "a401b216-ba61-43b3-ad84-fe37a25c9203"
      },
      "execution_count": 54,
      "outputs": [
        {
          "output_type": "execute_result",
          "data": {
            "text/plain": [
              "'Alice'"
            ],
            "application/vnd.google.colaboratory.intrinsic+json": {
              "type": "string"
            }
          },
          "metadata": {},
          "execution_count": 54
        }
      ]
    },
    {
      "cell_type": "code",
      "source": [
        "#24. Write a code to remove the key \"age\" from the dictionary {'name': 'Bob', 'age': 22, 'city': 'New York'}.\n",
        "dict = {'name':'Bob','age':22,'city':'New york'}\n",
        "dict.pop('age')\n",
        "print(dict)\n",
        "\n"
      ],
      "metadata": {
        "colab": {
          "base_uri": "https://localhost:8080/"
        },
        "id": "Yao5uJpkwVvC",
        "outputId": "b5153d8d-d610-4847-e126-772a56dd15c4"
      },
      "execution_count": 55,
      "outputs": [
        {
          "output_type": "stream",
          "name": "stdout",
          "text": [
            "{'name': 'Bob', 'city': 'New york'}\n"
          ]
        }
      ]
    },
    {
      "cell_type": "code",
      "source": [
        "#25. Write a code to check if the key \"city\" exists in the dictionary {'name': 'Alice', 'city': 'Paris'}.\n",
        "dict = {'name':'Alice','city':'paris'}\n",
        "'city' in dict\n",
        "\n"
      ],
      "metadata": {
        "colab": {
          "base_uri": "https://localhost:8080/"
        },
        "id": "6_oViShqwYXZ",
        "outputId": "f382857c-14e5-4625-9168-41a0c7d10b50"
      },
      "execution_count": 56,
      "outputs": [
        {
          "output_type": "execute_result",
          "data": {
            "text/plain": [
              "True"
            ]
          },
          "metadata": {},
          "execution_count": 56
        }
      ]
    },
    {
      "cell_type": "code",
      "source": [
        "#26. Write a code to create a list, a tuple, and a dictionary, and print them all.\n",
        "list = [1,2,3,4,5]\n",
        "print(list)\n",
        "tuple = (1,2,3,4,5)\n",
        "print(tuple)\n",
        "dict = {'name':'pratik','age':23,'city':'pune'}\n",
        "print(dict)\n",
        "\n"
      ],
      "metadata": {
        "colab": {
          "base_uri": "https://localhost:8080/"
        },
        "id": "1lwbF1iGwbkw",
        "outputId": "40f56842-d56d-4383-e4fb-c1f3fd32b026"
      },
      "execution_count": 57,
      "outputs": [
        {
          "output_type": "stream",
          "name": "stdout",
          "text": [
            "[1, 2, 3, 4, 5]\n",
            "(1, 2, 3, 4, 5)\n",
            "{'name': 'pratik', 'age': 23, 'city': 'pune'}\n"
          ]
        }
      ]
    },
    {
      "cell_type": "code",
      "source": [
        "'''27. Write a code to create a list of 5 random numbers between 1 and 100, sort it in ascending order, and print the\n",
        "result.(replaced)'''\n",
        "import random\n",
        "list = [random.randint(1,100) for i in range(5)]\n",
        "list.sort()\n",
        "print(list)\n",
        "\n"
      ],
      "metadata": {
        "colab": {
          "base_uri": "https://localhost:8080/"
        },
        "id": "H9nPggBjzT0N",
        "outputId": "e686a69c-3125-47d0-fdca-3c29ce95e091"
      },
      "execution_count": 61,
      "outputs": [
        {
          "output_type": "stream",
          "name": "stdout",
          "text": [
            "[16, 18, 23, 54, 68]\n"
          ]
        }
      ]
    },
    {
      "cell_type": "code",
      "source": [
        "#28. Write a code to create a list with strings and print the element at the third index.\n",
        "list = ['apple','banana','orange','kiwi']\n",
        "print(list[2])\n",
        "\n"
      ],
      "metadata": {
        "colab": {
          "base_uri": "https://localhost:8080/"
        },
        "id": "X8KNh2cLzXTP",
        "outputId": "6448bfb6-34d2-4929-f813-a20fc8583a58"
      },
      "execution_count": 62,
      "outputs": [
        {
          "output_type": "stream",
          "name": "stdout",
          "text": [
            "orange\n"
          ]
        }
      ]
    },
    {
      "cell_type": "code",
      "source": [
        "#29. Write a code to combine two dictionaries into one and print the result.\n",
        "dist = {'name':'pratik','age':23}\n",
        "dist1 = {'city':'pune','state':'maharashtra'}\n",
        "dist.update(dist1)\n",
        "print(dist)\n",
        "\n"
      ],
      "metadata": {
        "colab": {
          "base_uri": "https://localhost:8080/"
        },
        "id": "VH5UbAOqzZnY",
        "outputId": "eeb89b6d-573e-4486-9723-50f0d4256e7a"
      },
      "execution_count": 63,
      "outputs": [
        {
          "output_type": "stream",
          "name": "stdout",
          "text": [
            "{'name': 'pratik', 'age': 23, 'city': 'pune', 'state': 'maharashtra'}\n"
          ]
        }
      ]
    }
  ],
  "metadata": {
    "colab": {
      "name": "Welcome to Colab",
      "toc_visible": true,
      "provenance": []
    },
    "kernelspec": {
      "display_name": "Python 3",
      "name": "python3"
    }
  },
  "nbformat": 4,
  "nbformat_minor": 0
}